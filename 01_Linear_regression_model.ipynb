{
  "nbformat": 4,
  "nbformat_minor": 0,
  "metadata": {
    "colab": {
      "provenance": [],
      "authorship_tag": "ABX9TyOBDrnTb9MCpNmkpWZjUtwd",
      "include_colab_link": true
    },
    "kernelspec": {
      "name": "python3",
      "display_name": "Python 3"
    },
    "language_info": {
      "name": "python"
    }
  },
  "cells": [
    {
      "cell_type": "markdown",
      "metadata": {
        "id": "view-in-github",
        "colab_type": "text"
      },
      "source": [
        "<a href=\"https://colab.research.google.com/github/vinthegreat84/CoVid/blob/main/01_Linear_regression_model.ipynb\" target=\"_parent\"><img src=\"https://colab.research.google.com/assets/colab-badge.svg\" alt=\"Open In Colab\"/></a>"
      ]
    },
    {
      "cell_type": "code",
      "source": [
        "import pandas as pd\n",
        "from sklearn.linear_model import LinearRegression\n",
        "from sklearn.model_selection import train_test_split"
      ],
      "metadata": {
        "id": "EgCslbBmrXP-"
      },
      "execution_count": 26,
      "outputs": []
    },
    {
      "cell_type": "code",
      "source": [
        "# Read in data\n",
        "link = 'https://raw.githubusercontent.com/vinthegreat84/ML-Lab/main/data/drilling.csv'\n",
        "data = pd.read_csv(link)\n",
        "\n",
        "# Define the predictor variables and the target variable\n",
        "X = data[['Depth_(m)', 'Bit Size_(inch)', 'Bit_Type', 'Weight_on_Bit', 'Bit_Rotation_(RPM)', 'Mud_Weight(pcf)', 'Flow_Rate(gpm)', 'Pump_Pressure_(psia)']]\n",
        "y = data['Rate_of_Penetration_ROP_(M/H)']\n",
        "\n",
        "# Split the data into a training and testing set\n",
        "X_train, X_test, y_train, y_test = train_test_split(X, y, test_size=0.2)\n",
        "\n",
        "# Create a linear regression model\n",
        "reg = LinearRegression()\n",
        "\n",
        "# Train the model on the training data\n",
        "reg.fit(X_train, y_train)\n",
        "\n",
        "# Make predictions on the testing data\n",
        "y_pred = reg.predict(X_test)\n",
        "\n",
        "# Print the model's coefficients\n",
        "print(reg.coef_)\n",
        "\n",
        "# Print the model's intercept\n",
        "print(reg.intercept_)\n",
        "\n",
        "# Print the model's R-squared score\n",
        "print(reg.score(X_test, y_test))"
      ],
      "metadata": {
        "id": "e_drWLHct2dN",
        "colab": {
          "base_uri": "https://localhost:8080/"
        },
        "outputId": "8940e4bb-facd-4ce0-ec49-1c19ab2120ae"
      },
      "execution_count": 27,
      "outputs": [
        {
          "output_type": "stream",
          "name": "stdout",
          "text": [
            "[ 0.00037028  0.17157524 -0.08766642 -0.22643572 -0.06712655 -0.04784504\n",
            "  0.00784533  0.00066076]\n",
            "2.305775406424168\n",
            "-6.152667474109051\n"
          ]
        }
      ]
    }
  ]
}